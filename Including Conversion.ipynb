{
 "cells": [
  {
   "cell_type": "code",
   "execution_count": null,
   "id": "09fd85bb",
   "metadata": {},
   "outputs": [],
   "source": [
    "from selenium import webdriver \n",
    "\n",
    "\n",
    "law_url = \"https://law.judicial.gov.tw/FJUD/default_AD.aspx\"\n",
    "browser = webdriver.Chrome('/Users/Colin Lau/anaconda3/Lib/site-packages/selenium/webdriver/chromedriver')"
   ]
  },
  {
   "cell_type": "code",
   "execution_count": 10,
   "id": "1405684f",
   "metadata": {},
   "outputs": [],
   "source": [
    "frontpage = browser.get(law_url)"
   ]
  },
  {
   "cell_type": "code",
   "execution_count": 11,
   "id": "4cb6d8bc",
   "metadata": {},
   "outputs": [],
   "source": [
    "#印出首頁的html，查找需要輸入的部分的code\n",
    "\n",
    "import requests\n",
    "from bs4 import BeautifulSoup\n",
    "\n",
    "request_law = requests.get(law_url)\n",
    "soup_law = BeautifulSoup (request_law.text, \"html.parser\")\n",
    "#print(soup_law)"
   ]
  },
  {
   "cell_type": "code",
   "execution_count": 12,
   "id": "6eb8ecfa",
   "metadata": {},
   "outputs": [],
   "source": [
    "from selenium.webdriver.common.keys import Keys\n",
    "from selenium.webdriver.common.by import By\n",
    "from selenium.webdriver.common.action_chains import ActionChains \n",
    "import time\n",
    "import re\n",
    "\n",
    "#輸入限定尋找90年至110年的判決書：\n",
    "#輸入\"90\"\n",
    "elem = browser.find_element(By.XPATH,'//*[@id=\"dy1\"]') \n",
    "elem.clear()\n",
    "elem.send_keys(\"90\")\n",
    "\n",
    "#輸入\"110\"\n",
    "elem = browser.find_element(By.XPATH,'//*[@id=\"dy2\"]') \n",
    "elem.clear()\n",
    "elem.send_keys(\"110\")"
   ]
  },
  {
   "cell_type": "code",
   "execution_count": 13,
   "id": "16316b25",
   "metadata": {},
   "outputs": [],
   "source": [
    "#選取所有的地方法院\n",
    "\n",
    "for i in range (18, 41):\n",
    "    xpath_branch = '//*[@id=\"jud_court\"]/option['+ str(i) +']'\n",
    "    branch = browser.find_element(By.XPATH, '//*[@id=\"jud_court\"]/option['+ str(i) +']')\n",
    "    branch.click()\n",
    "time.sleep(4)"
   ]
  },
  {
   "cell_type": "code",
   "execution_count": 14,
   "id": "bfd2344f",
   "metadata": {},
   "outputs": [],
   "source": [
    "#刑事案件打勾\n",
    "\n",
    "checkbox = browser.find_element(By.XPATH,'//*[@id=\"vtype_M\"]/input')\n",
    "checkbox.click()\n",
    "time.sleep(4)"
   ]
  },
  {
   "cell_type": "code",
   "execution_count": 15,
   "id": "f69fb2cd",
   "metadata": {},
   "outputs": [],
   "source": [
    "#裁判案由限縮為“殺人”\n",
    "elem_reason = browser.find_element(By.XPATH,'//*[@id=\"jud_title\"]') \n",
    "elem_reason.clear()\n",
    "elem_reason.send_keys(\"殺人\")\n",
    "time.sleep(4)\n",
    "\n",
    "#裁判全文內容排除裁定\n",
    "elem_content = browser.find_element(By.XPATH,'//*[@id=\"jud_kw\"]') \n",
    "elem_content.clear()\n",
    "elem_content.send_keys(\" -裁定\")\n",
    "time.sleep(4)"
   ]
  },
  {
   "cell_type": "code",
   "execution_count": 16,
   "id": "8c9a8215",
   "metadata": {},
   "outputs": [],
   "source": [
    "#送出篩選結果\n",
    "checkbox.send_keys(Keys.RETURN)\n",
    "time.sleep(4)"
   ]
  },
  {
   "cell_type": "code",
   "execution_count": 17,
   "id": "727ba763",
   "metadata": {},
   "outputs": [],
   "source": [
    "#用for loop跑每個子網頁的頁面\n",
    "lst_law_title = []\n",
    "for i in range (1,26):\n",
    "    new_law_url = \"https://law.judicial.gov.tw/FJUD/qryresultlst.aspx?q=93d3d3c30da7d60ccb836a55264310ae&sort=DS&&Page=\"+str(i)\n",
    "    request_new_law = requests.get(new_law_url)\n",
    "    new_law_soup = BeautifulSoup (request_new_law.text, \"html.parser\")\n",
    "    law_title = new_law_soup.find_all(\"a\", id=\"hlTitle\")\n",
    "    #print(law_title)\n",
    "#用關鍵字”重訴”剔除所有殺人未遂的案件\n",
    "    for j in range (len(law_title)):\n",
    "        if \"重訴\" in str(law_title[j]):\n",
    "            lst_law_title.append(law_title[j])\n",
    "#print(len(lst_law_title))\n",
    "#print(type(lst_law_title[0]))"
   ]
  },
  {
   "cell_type": "code",
   "execution_count": 18,
   "id": "138f118a",
   "metadata": {},
   "outputs": [],
   "source": [
    "#取出所有的判決書的href\n",
    "href_lst=[]\n",
    "for tag in lst_law_title:\n",
    "    tag_href = tag.get(\"href\")\n",
    "    href_lst.append(tag_href)\n",
    "    #print(tag.get(\"href\"))"
   ]
  },
  {
   "cell_type": "code",
   "execution_count": 19,
   "id": "eae49ec5",
   "metadata": {},
   "outputs": [
    {
     "name": "stdout",
     "output_type": "stream",
     "text": [
      "112\n",
      "68\n",
      "44\n"
     ]
    }
   ],
   "source": [
    "#用每個href進入判決書網頁\n",
    "murder_case = []\n",
    "Reduce_Sentence =[]\n",
    "NReduce_Sentence =[]\n",
    "for i in range (len(href_lst)):\n",
    "    case_url =\"https://law.judicial.gov.tw/FJUD/\"+str(href_lst[i])\n",
    "    request_case = requests.get(case_url)\n",
    "    case_soup = BeautifulSoup (request_case.text, \"html.parser\")\n",
    "    \n",
    "    #排除其他奇怪的非殺人罪\n",
    "    if \"解剖\" in str(case_soup):\n",
    "        murder_case.append(case_soup)\n",
    "#print(murder_case)\n",
    "print(len(murder_case))\n",
    "\n",
    "#分類殺人案中有沒有減刑\n",
    "for j in range (len(murder_case)):\n",
    "    if (\"減輕其刑\") in str(murder_case[j]):\n",
    "        Reduce_Sentence.append(murder_case[j])\n",
    "    else:\n",
    "        NReduce_Sentence.append(murder_case[j])\n",
    "#print(Reduce_Sentence[0])\n",
    "print(len(Reduce_Sentence))\n",
    "print(len(NReduce_Sentence))\n",
    "#print(NReduce_Sentence[0])\n",
    "#print(case_soup)"
   ]
  },
  {
   "cell_type": "code",
   "execution_count": 20,
   "id": "6271e861",
   "metadata": {},
   "outputs": [
    {
     "name": "stdout",
     "output_type": "stream",
     "text": [
      "27\n",
      "41\n"
     ]
    }
   ],
   "source": [
    "#有減刑中區分被告是否有精神障礙問題\n",
    "psycho_reduce = []\n",
    "non_psycho_reduce = []\n",
    "\n",
    "for i in range(len(Reduce_Sentence)):\n",
    "    if \"精神障礙\" in str(Reduce_Sentence[i]):\n",
    "        psycho_reduce.append(Reduce_Sentence[i])\n",
    "    else:\n",
    "        non_psycho_reduce.append(Reduce_Sentence[i])\n",
    "#print(psycho_reduce[0])\n",
    "#print(non_psycho_reduce[0])\n",
    "#find(class_ = \"\").text\n",
    "print (len(psycho_reduce))\n",
    "print (len(non_psycho_reduce))"
   ]
  },
  {
   "cell_type": "code",
   "execution_count": 21,
   "id": "68b881be",
   "metadata": {},
   "outputs": [],
   "source": [
    "#將所有的soup檔案轉成為text\n",
    "\n",
    "psycho_reduce_text = []\n",
    "non_psycho_reduce_text = []\n",
    "\n",
    "\n",
    "for i in range (len(psycho_reduce)):\n",
    "    text = psycho_reduce[i].find(class_ =\"tab_content\").text\n",
    "    psycho_reduce_text.append (text)\n",
    "#print (psycho_reduce_text[9])\n",
    "\n",
    "for i in range (len(non_psycho_reduce)):\n",
    "    text = non_psycho_reduce[i].find(class_ =\"tab_content\").text\n",
    "    non_psycho_reduce_text.append (text)\n",
    "#print (non_psycho_reduce_text[9])"
   ]
  },
  {
   "cell_type": "code",
   "execution_count": 22,
   "id": "702858e9",
   "metadata": {},
   "outputs": [
    {
     "name": "stdout",
     "output_type": "stream",
     "text": [
      "41\n",
      "3\n"
     ]
    }
   ],
   "source": [
    "#再區分看看沒有減刑的部分是否有被告提出有精神障礙問題\n",
    "psycholst =[]\n",
    "nonpsycholst =[]\n",
    "\n",
    "for i in range (len(NReduce_Sentence)):\n",
    "    if \"精神障礙\" in str(NReduce_Sentence[i]):\n",
    "        psycholst.append (NReduce_Sentence[i])\n",
    "    else:\n",
    "         nonpsycholst.append (NReduce_Sentence[i])\n",
    "print (len (nonpsycholst))\n",
    "#print (nonpsycholst[9])\n",
    "print (len (psycholst))\n",
    "#確認沒有減刑的部分都沒有報告提到有精神障礙\n",
    "#print (psycholst[1])"
   ]
  },
  {
   "cell_type": "code",
   "execution_count": 23,
   "id": "ed1d827f",
   "metadata": {},
   "outputs": [],
   "source": [
    "#一樣將所有的soup檔案轉成為text\n",
    "\n",
    "nonpsycholst_text = []\n",
    "psycholst_text = []\n",
    "\n",
    "for i in range (len(nonpsycholst)):\n",
    "    text = nonpsycholst[i].find(class_ =\"tab_content\").text\n",
    "    nonpsycholst_text.append (text)  \n",
    "#print (nonpsycholst_text[3])\n",
    "\n",
    "for i in range (len(psycholst)):\n",
    "    text = psycholst[i].find(class_ =\"tab_content\").text\n",
    "    psycholst_text.append (text) "
   ]
  },
  {
   "cell_type": "code",
   "execution_count": 24,
   "id": "124dbbd7",
   "metadata": {},
   "outputs": [
    {
     "name": "stdout",
     "output_type": "stream",
     "text": [
      "['有期徒刑拾壹', '無期徒刑', '無期徒刑']\n"
     ]
    }
   ],
   "source": [
    "#沒有減刑&有精神障礙的案件，提取出最終判刑年份\n",
    "year1=[]\n",
    "for i in range (len(psycholst_text)):\n",
    "    filter1 = psycholst_text[i].partition(\"本院判決如下\")\n",
    "    #print(filter1[2])\n",
    "    no1filter = filter1[2]\n",
    "    filter2 = no1filter.partition (\"犯罪事實\")\n",
    "    #print(filter2[0])\n",
    "    no2filter = filter2[0]\n",
    "    filter3 = no2filter.partition (\"事  實\")\n",
    "    #print (filter3[0])\n",
    "    filter3 = no2filter.partition(\"，處\")\n",
    "    no3filter = filter3[2]\n",
    "    #print (filter3[2])\n",
    "    filter4 = no3filter.partition('年')\n",
    "    #print(filter4[0])\n",
    "    no4filter = filter4[0]\n",
    "    filter5 = no4filter.partition (\"，褫奪公權\")\n",
    "    #print(filter5[0])\n",
    "    year1.append(filter5[0])\n",
    "print(year1)\n",
    "    #len(nonpsycholst)"
   ]
  },
  {
   "cell_type": "code",
   "execution_count": 25,
   "id": "c27256aa",
   "metadata": {},
   "outputs": [
    {
     "name": "stdout",
     "output_type": "stream",
     "text": [
      "['有期徒刑拾肆', '有期徒刑拾參', '有期徒刑拾伍', '有期徒刑拾伍', '有期徒刑壹', '有期徒刑拾伍', '有期徒刑拾肆', '有期徒刑貳', '有期徒刑伍', '', '有期徒刑拾肆', '無期徒刑', '無期徒刑', '無期徒刑', '有\\r\\n期徒刑拾', '有期徒刑拾捌', '', '有期徒刑拾伍', '有期徒刑參月，如易科罰金，以新臺幣壹仟元折算\\r\\n壹日；又犯殺人罪，處有期徒刑拾伍', '有期徒刑捌', '有期徒刑捌', '無期徒刑', '有期徒刑拾陸', '', '有期徒刑拾貳', '有期徒刑拾肆', '', '', '有期徒刑拾', '有期徒刑拾', '', '有期徒刑拾肆', '有期徒刑捌', '有期徒刑拾肆', '有期徒刑拾肆', '有期徒刑拾伍', '有期徒刑拾貳', '無期徒刑', '無期徒刑', '有期徒刑拾肆', '拘役伍拾日，如易科罰金，以新臺\\r\\n幣壹仟元折算壹日；扣案恐嚇信件壹紙沒收。又犯殺人罪，處有\\r\\n期徒刑拾肆']\n"
     ]
    }
   ],
   "source": [
    "#沒有減刑&沒有精神障礙的案件，提取出最終判刑年份\n",
    "year2 = []\n",
    "for i in range (len(nonpsycholst_text)):\n",
    "    filter1 = nonpsycholst_text[i].partition(\"本院判決如下\")\n",
    "    #print(filter1[2])\n",
    "    no1filter = filter1[2]\n",
    "    filter2 = no1filter.partition (\"犯罪事實\")\n",
    "    #print(filter2[0])\n",
    "    no2filter = filter2[0]\n",
    "    filter3 = no2filter.partition (\"事  實\")\n",
    "    #print (filter3[0])\n",
    "    filter3 = no2filter.partition(\"，處\")\n",
    "    no3filter = filter3[2]\n",
    "    #print (filter3[2])\n",
    "    filter4 = no3filter.partition('年')\n",
    "    #print(filter4[0])\n",
    "    no4filter = filter4[0]\n",
    "    filter5 = no4filter.partition (\"，褫\")\n",
    "    #print(filter5[0])\n",
    "    year2.append(filter5[0])\n",
    "print(year2)"
   ]
  },
  {
   "cell_type": "code",
   "execution_count": 26,
   "id": "8f5bc1e0",
   "metadata": {},
   "outputs": [
    {
     "name": "stdout",
     "output_type": "stream",
     "text": [
      "['有期徒刑拾肆', '有期徒刑拾參', '有期徒刑拾伍', '有期徒刑拾伍', '有期徒刑壹', '有期徒刑拾伍', '有期徒刑拾肆', '有期徒刑貳', '有期徒刑伍', '無罪', '有期徒刑拾肆', '無期徒刑', '無期徒刑', '無期徒刑', '有期徒刑拾', '有期徒刑拾捌', '無罪', '有期徒刑拾伍', '有期徒刑拾伍', '有期徒刑捌', '有期徒刑捌', '無期徒刑', '有期徒刑拾陸', '無期徒刑', '有期徒刑拾貳', '有期徒刑拾肆', '有期徒刑捌', '有期徒刑捌', '有期徒刑拾', '有期徒刑拾', '無罪', '有期徒刑拾肆', '有期徒刑捌', '有期徒刑拾肆', '有期徒刑拾肆', '有期徒刑拾伍', '有期徒刑拾貳', '無期徒刑', '無期徒刑', '有期徒刑拾肆', '有期徒刑拾肆']\n"
     ]
    }
   ],
   "source": [
    "year2[9] =\"無罪\"\n",
    "year2[14] =\"有期徒刑拾\"\n",
    "year2[16] =\"無罪\"\n",
    "year2[18] =\"有期徒刑拾伍\"\n",
    "year2[23] =\"無期徒刑\"\n",
    "year2[26]=\"有期徒刑捌\"\n",
    "year2[27]=\"有期徒刑捌\"\n",
    "year2[30]=\"無罪\"\n",
    "year2[-1] =\"有期徒刑拾肆\"\n",
    "print(year2)"
   ]
  },
  {
   "cell_type": "code",
   "execution_count": 27,
   "id": "1674eb94",
   "metadata": {},
   "outputs": [
    {
     "name": "stdout",
     "output_type": "stream",
     "text": [
      "['有期徒刑肆', '有期徒刑拾參', '死刑', '無期徒刑', '有期徒刑玖', '有期徒刑壹拾伍', '有期徒刑貳', '死刑、無期徒刑或10', '', '有期徒刑拾肆', '有期徒刑柒', '有期徒刑拾參', '', '有期徒刑拾壹', '有期徒刑拾壹', '有期徒刑拾柒', '有\\r\\n期徒刑肆', '', '有期徒刑拾肆', '有期徒刑拾參', '有期徒刑貳拾', '有期徒刑拾壹', '無期徒刑', '有期徒刑拾伍', '有期徒刑拾捌', '有期徒刑玖', '有期徒刑拾陸']\n",
      "27\n"
     ]
    }
   ],
   "source": [
    "#有減刑&有精神障礙的案件，提取出最終判刑年份\n",
    "year3 = []\n",
    "for i in range (len(psycho_reduce_text)):\n",
    "    filter1 = psycho_reduce_text [i].partition(\"本院判決如下\")\n",
    "    #print(filter1[2])\n",
    "    no1filter = filter1[2]\n",
    "    filter2 = no1filter.partition (\"犯罪事實\")\n",
    "    #print(filter2[0])\n",
    "    no2filter = filter2[0]\n",
    "    filter3 = no2filter.partition (\"事  實\")\n",
    "    #print (filter3[0])\n",
    "    filter3 = no2filter.partition(\"，處\")\n",
    "    no3filter = filter3[2]\n",
    "    #print (filter3[2])\n",
    "    filter4 = no3filter.partition('年')\n",
    "    #print(filter4[0])\n",
    "    no4filter = filter4[0]\n",
    "    filter5 = no4filter.partition (\"，褫奪公權\")\n",
    "    #print(filter5[0])\n",
    "    year3.append(filter5[0])\n",
    "print (year3)\n",
    "print (len(year3))"
   ]
  },
  {
   "cell_type": "code",
   "execution_count": 28,
   "id": "a8e6dc72",
   "metadata": {},
   "outputs": [
    {
     "name": "stdout",
     "output_type": "stream",
     "text": [
      "['有期徒刑肆', '有期徒刑拾參', '死刑', '無期徒刑', '有期徒刑玖', '有期徒刑壹拾伍', '有期徒刑貳', '有期徒刑玖', '死刑', '有期徒刑拾肆', '有期徒刑柒', '有期徒刑拾參', '無期徒刑', '有期徒刑拾壹', '有期徒刑拾壹', '有期徒刑拾柒', '有期徒刑肆', '無罪', '有期徒刑拾肆', '有期徒刑拾參', '有期徒刑貳拾', '有期徒刑拾壹', '無期徒刑', '有期徒刑拾伍', '有期徒刑拾捌', '有期徒刑玖', '有期徒刑拾陸']\n",
      "['無罪', '無期徒刑', '無期徒刑', '無期徒刑', '死刑', '死刑', '有期徒刑貳拾', '有期徒刑貳', '有期徒刑肆', '有期徒刑肆', '有期徒刑玖', '有期徒刑玖', '有期徒刑玖', '有期徒刑柒', '有期徒刑拾陸', '有期徒刑拾肆', '有期徒刑拾肆', '有期徒刑拾柒', '有期徒刑拾捌', '有期徒刑拾壹', '有期徒刑拾壹', '有期徒刑拾壹', '有期徒刑拾參', '有期徒刑拾參', '有期徒刑拾參', '有期徒刑拾伍', '有期徒刑壹拾伍']\n"
     ]
    }
   ],
   "source": [
    "#整理跑出奇怪的結果的部分\n",
    "\n",
    "year3 [7] = \"有期徒刑玖\"\n",
    "year3 [8] = \"死刑\"\n",
    "year3 [12] = \"無期徒刑\"\n",
    "year3 [16] = \"有期徒刑肆\"\n",
    "year3 [17] = \"無罪\"\n",
    "print(year3)\n",
    "year3 = sorted (year3, reverse=True)\n",
    "print(year3)"
   ]
  },
  {
   "cell_type": "code",
   "execution_count": 29,
   "id": "53c9e83d",
   "metadata": {},
   "outputs": [
    {
     "name": "stdout",
     "output_type": "stream",
     "text": [
      "['有期徒刑拾肆', '有期徒刑貳', '有期徒刑玖', '有期徒刑捌', '有期徒刑拾肆', '有期徒刑拾柒', '有期徒刑拾貳', '有期徒刑拾玖', '有期徒刑拾貳', '有期徒刑拾伍', '', '有期徒刑拾參', '有期徒刑拾肆', '有期徒刑貳月，如易科罰金以新臺幣壹\\r\\n仟元折算壹日；承恩救護記錄表一式三聯各聯上送醫後病人家屬\\r\\n關係人簽名欄中偽造之「黃○程」署押壹枚，共參枚，均沒收。\\r\\n又共同犯遺棄屍體罪，處有期徒刑壹', '無期徒刑', '有期徒刑玖', '有期徒刑拾捌', '有期徒刑5 ', '', '', '有期徒刑拾', '有期徒刑捌', '有期徒刑拾肆', '有期徒刑伍', '無期徒刑', '有期徒刑柒', '有期徒刑柒', '有期徒刑參月，如易科罰金，以新\\r\\n臺幣壹仟元折算壹日；又犯殺人罪，處有期徒刑拾陸', '有期徒刑貳拾', '有期徒刑拾參', '', '有期徒刑捌', '無期徒刑', '', '有期徒刑拾參', '有期徒刑捌', '有期徒刑肆', '有期徒刑拾貳', '有期徒刑拾肆', '有期徒刑肆\\r\\n', '有期徒刑拾肆']\n"
     ]
    }
   ],
   "source": [
    "#有減刑&沒有精神障礙的案件，提取出最終判刑年份\n",
    "year4 = []\n",
    "for i in range (len(non_psycho_reduce_text)):\n",
    "    filter1 = non_psycho_reduce_text[i].partition(\"本院判決如下\")\n",
    "    #print(filter1[2])\n",
    "    no1filter = filter1[2]\n",
    "    filter2 = no1filter.partition (\"犯罪事實\")\n",
    "    #print(filter2[0])\n",
    "    no2filter = filter2[0]\n",
    "    filter3 = no2filter.partition (\"事  實\")\n",
    "    #print (filter3[0])\n",
    "    filter3 = no2filter.partition(\"，處\")\n",
    "    no3filter = filter3[2]\n",
    "    #print (filter3[2])\n",
    "    filter4 = no3filter.partition('年')\n",
    "    #print(filter4[0])\n",
    "    no4filter = filter4[0]\n",
    "    filter5 = no4filter.partition (\"，褫奪公權\")\n",
    "    #print(filter5[0])\n",
    "    year4.append(filter5[0])\n",
    "print (year4)"
   ]
  },
  {
   "cell_type": "code",
   "execution_count": 30,
   "id": "e40ec448",
   "metadata": {},
   "outputs": [
    {
     "name": "stdout",
     "output_type": "stream",
     "text": [
      "['有期徒刑拾肆', '有期徒刑貳', '有期徒刑玖', '有期徒刑捌', '有期徒刑拾肆', '有期徒刑拾柒', '有期徒刑拾貳', '有期徒刑拾玖', '有期徒刑拾貳', '有期徒刑拾伍', '無期徒刑', '有期徒刑拾參', '有期徒刑拾肆', '有期徒刑貳月', '無期徒刑', '有期徒刑玖', '有期徒刑拾捌', '有期徒刑伍', '有期徒刑拾肆', '有期徒刑拾肆', '有期徒刑拾', '有期徒刑捌', '有期徒刑拾肆', '有期徒刑伍', '無期徒刑', '有期徒刑柒', '有期徒刑柒', '有期徒刑拾陸', '有期徒刑貳拾', '有期徒刑拾參', '??', '有期徒刑捌', '無期徒刑', '有期徒刑拾壹', '有期徒刑拾參', '有期徒刑捌', '有期徒刑肆', '有期徒刑拾貳', '有期徒刑拾肆', '有期徒刑肆', '有期徒刑拾肆']\n",
      "41\n",
      "['無期徒刑', '無期徒刑', '無期徒刑', '無期徒刑', '有期徒刑貳月', '有期徒刑貳拾', '有期徒刑貳', '有期徒刑肆', '有期徒刑肆', '有期徒刑玖', '有期徒刑玖', '有期徒刑柒', '有期徒刑柒', '有期徒刑捌', '有期徒刑捌', '有期徒刑捌', '有期徒刑捌', '有期徒刑拾陸', '有期徒刑拾貳', '有期徒刑拾貳', '有期徒刑拾貳', '有期徒刑拾肆', '有期徒刑拾肆', '有期徒刑拾肆', '有期徒刑拾肆', '有期徒刑拾肆', '有期徒刑拾肆', '有期徒刑拾肆', '有期徒刑拾肆', '有期徒刑拾玖', '有期徒刑拾柒', '有期徒刑拾捌', '有期徒刑拾壹', '有期徒刑拾參', '有期徒刑拾參', '有期徒刑拾參', '有期徒刑拾伍', '有期徒刑拾', '有期徒刑伍', '有期徒刑伍', '??']\n"
     ]
    }
   ],
   "source": [
    "#整理跑出奇怪的結果的部分\n",
    "year4 [10]=\"無期徒刑\"\n",
    "year4 [13]=\"有期徒刑貳月\"\n",
    "year4 [17]=\"有期徒刑伍\"\n",
    "year4 [18]=\"有期徒刑拾肆\"\n",
    "year4 [19]=\"有期徒刑拾肆\"\n",
    "year4 [27] =\"有期徒刑拾陸\"\n",
    "year4 [30] = \"??\"\n",
    "year4 [33] = \"有期徒刑拾壹\"\n",
    "year4 [-2] ='有期徒刑肆'\n",
    "print(year4)\n",
    "print(len(year4))\n",
    "year4 = sorted (year4, reverse=True)\n",
    "print(year4)"
   ]
  },
  {
   "cell_type": "code",
   "execution_count": 32,
   "id": "0de603a1",
   "metadata": {},
   "outputs": [],
   "source": [
    "import re"
   ]
  },
  {
   "cell_type": "code",
   "execution_count": 301,
   "id": "1ff55107",
   "metadata": {},
   "outputs": [],
   "source": [
    "def conversion(s):\n",
    "    pattrern2 ='[〇一二三四五六七八九零壹貳叁肆伍陸柒捌玖貮兩拾參]'\n",
    "    CN_NUM = {\n",
    " '〇': 0, '一': 1, '二': 2, '三': 3, '四': 4, '五': 5, '六': 6, '七': 7, '八': 8, '九': 9, '零': 0,\n",
    " '壹': 1, '貳': 2, '叁': 3, '肆': 4, '伍': 5, '陸': 6, '柒': 7, '捌': 8, '玖': 9, '貮': 2, '兩': 2,'拾':1,'參':3}\n",
    "    \n",
    "    if s == '無罪' or s =='??' :\n",
    "        return 0\n",
    "    elif s == '無期徒刑' or s =='死刑':\n",
    "        return 100\n",
    "    else:\n",
    "        year1_1 = re.findall(pattrern2,s)#轉化數字\n",
    "        for i in range(len(year1_1)):\n",
    "            new_str = ''\n",
    "            for j in year1_1[i]:\n",
    "                new_str += str(CN_NUM[j])\n",
    "            year1_1[i] = new_str\n",
    "\n",
    "        number = ''\n",
    "        for i in range(len(year1_1)):\n",
    "            number = number + year1_1[i]\n",
    "    \n",
    "        number = int(number)\n",
    "        return number"
   ]
  },
  {
   "cell_type": "code",
   "execution_count": 302,
   "id": "2abb6d53",
   "metadata": {},
   "outputs": [],
   "source": [
    "year1_list = []\n",
    "for i in range(len(year1)):\n",
    "    new = conversion(year1[i])\n",
    "    year1_list.append(new)\n",
    "\n",
    "year2_list = []\n",
    "for i in range(len(year2)):\n",
    "    new = conversion(year2[i])\n",
    "    year2_list.append(new)\n",
    "\n",
    "year3_list = []\n",
    "for i in range(len(year3)):\n",
    "    new = conversion(year3[i])\n",
    "    year3_list.append(new)\n",
    "year3_list[26]=15\n",
    "\n",
    "year4_list = []\n",
    "for i in range(len(year4)):\n",
    "    new = conversion(year4[i])\n",
    "    year4_list.append(new)"
   ]
  },
  {
   "cell_type": "code",
   "execution_count": 303,
   "id": "739da153",
   "metadata": {},
   "outputs": [],
   "source": [
    "def num(s):\n",
    "    num = []\n",
    "    for i in range(len(s)):\n",
    "        if s[i] not in num:\n",
    "            num.append(s[i])\n",
    "        else:\n",
    "            continue\n",
    "    return num\n",
    "\n",
    "def graph(num,list):\n",
    "    import pandas as pd\n",
    "    dict = {}\n",
    "    for i in range(25):\n",
    "        count = list.count(i)\n",
    "        dict[i]=count\n",
    "    df = pd.DataFrame(dict.items(),columns = ['year of sentence','occurence'])\n",
    "    return df"
   ]
  },
  {
   "cell_type": "code",
   "execution_count": 318,
   "id": "02ec4169",
   "metadata": {},
   "outputs": [],
   "source": [
    "year1_data = graph(num(year1_list),year1_list)\n",
    "year2_data = graph(num(year2_list),year2_list)\n",
    "year3_data = graph(num(year3_list),year3_list)\n",
    "year4_data = graph(num(year4_list),year4_list)\n",
    "\n",
    "year1_data ['constant']=1\n",
    "year2_data ['constant']=2\n",
    "year3_data ['constant']=3\n",
    "year4_data ['constant']=4"
   ]
  },
  {
   "cell_type": "code",
   "execution_count": 319,
   "id": "621832a0",
   "metadata": {},
   "outputs": [
    {
     "data": {
      "image/png": "[encoded data removed]",
      "text/plain": [
       "<Figure size 1440x576 with 1 Axes>"
      ]
     },
     "metadata": {
      "needs_background": "light"
     },
     "output_type": "display_data"
    }
   ],
   "source": [
    "from matplotlib.font_manager import FontProperties\n",
    "import numpy as np\n",
    "import matplotlib.pyplot as plt\n",
    "\n",
    "plt.figure(figsize=(20,8))\n",
    "\n",
    "vals1 = year1_data.values\n",
    "plt.scatter(vals1[:,0],vals1[:,2],s = 300*vals1[:,1],c='y')\n",
    "\n",
    "vals2 = year2_data.values\n",
    "plt.scatter(vals2[:,0],vals2[:,2],s = 300*vals2[:,1],c='olive')\n",
    "\n",
    "vals3 = year3_data.values\n",
    "plt.scatter(vals3[:,0],vals3[:,2],s = 300*vals3[:,1],c='peachpuff')\n",
    "\n",
    "vals4 = year4_data.values\n",
    "plt.scatter(vals4[:,0],vals4[:,2],s = 300*vals4[:,1],c='peru')\n",
    "\n",
    "plt.show()"
   ]
  },
  {
   "cell_type": "code",
   "execution_count": 350,
   "id": "dfe7f425",
   "metadata": {},
   "outputs": [],
   "source": [
    "year1_data['weighted'] = year1_data['year of sentence'] * year1_data['occurence']\n",
    "mean1 = year1_data['weighted'].sum()/year1_data['occurence'].sum()\n",
    "\n",
    "year2_data['weighted'] = year2_data['year of sentence'] * year2_data['occurence']\n",
    "mean2 = year2_data['weighted'].sum()/year2_data['occurence'].sum()\n",
    "\n",
    "year3_data['weighted'] = year3_data['year of sentence'] * year3_data['occurence']\n",
    "mean3 = year3_data['weighted'].sum()/year3_data['occurence'].sum()\n",
    "\n",
    "year4_data['weighted'] = year4_data['year of sentence'] * year4_data['occurence']\n",
    "mean4 = year4_data['weighted'].sum()/year4_data['occurence'].sum()"
   ]
  },
  {
   "cell_type": "code",
   "execution_count": 355,
   "id": "8912ccba",
   "metadata": {},
   "outputs": [
    {
     "name": "stdout",
     "output_type": "stream",
     "text": [
      "11.0\n",
      "9.941176470588236\n",
      "11.181818181818182\n",
      "10.567567567567568\n"
     ]
    }
   ],
   "source": [
    "print(mean1)\n",
    "print(mean2)\n",
    "print(mean3)\n",
    "print(mean4)"
   ]
  },
  {
   "cell_type": "code",
   "execution_count": 374,
   "id": "75a11f7c",
   "metadata": {},
   "outputs": [],
   "source": [
    "def ttest_list(list):\n",
    "    newlist = []\n",
    "    for i in range(len(list)):\n",
    "        if list[i] != 0 and list[i] != 100:\n",
    "            newlist.append(list[i])\n",
    "        else:\n",
    "            continue\n",
    "    return newlist"
   ]
  },
  {
   "cell_type": "code",
   "execution_count": 378,
   "id": "6204b337",
   "metadata": {},
   "outputs": [
    {
     "name": "stdout",
     "output_type": "stream",
     "text": [
      "P-Value:0.5335428093415135 T-Statistic:0.6265553516324028\n"
     ]
    }
   ],
   "source": [
    "from scipy import stats\n",
    "\n",
    "year1_new = ttest_list(year1_list)\n",
    "year2_new = ttest_list(year2_list)\n",
    "year3_new = ttest_list(year3_list)\n",
    "year4_new = ttest_list(year4_list)\n",
    "\n",
    "tStat, pValue =  stats.ttest_ind(year3_new, year4_new)\n",
    "print(\"P-Value:{0} T-Statistic:{1}\".format(pValue,tStat))"
   ]
  },
  {
   "cell_type": "code",
   "execution_count": 271,
   "id": "0e6f2bc9",
   "metadata": {},
   "outputs": [],
   "source": [
    "def graph_graph(num,list):\n",
    "    import pandas as pd\n",
    "    dict = {}\n",
    "    for i in range(100,101):\n",
    "        count = list.count(i)\n",
    "        dict[i]=count\n",
    "    df = pd.DataFrame(dict.items(),columns = ['year of sentence','occurence'])\n",
    "    return df"
   ]
  },
  {
   "cell_type": "code",
   "execution_count": 313,
   "id": "19102b34",
   "metadata": {},
   "outputs": [],
   "source": [
    "year1_data_death = graph_graph(num(year1_list),year1_list)\n",
    "year2_data_death = graph_graph(num(year2_list),year2_list)\n",
    "year3_data_death = graph_graph(num(year3_list),year3_list)\n",
    "year4_data_death = graph_graph(num(year4_list),year4_list)\n",
    "\n",
    "year1_data_death ['constant']=2\n",
    "year2_data_death ['constant']=4\n",
    "year3_data_death ['constant']=6\n",
    "year4_data_death ['constant']=8"
   ]
  },
  {
   "cell_type": "code",
   "execution_count": 314,
   "id": "c753f881",
   "metadata": {},
   "outputs": [
    {
     "data": {
      "image/png": "[encoded data removed]",
      "text/plain": [
       "<Figure size 576x576 with 1 Axes>"
      ]
     },
     "metadata": {
      "needs_background": "light"
     },
     "output_type": "display_data"
    }
   ],
   "source": [
    "from matplotlib.font_manager import FontProperties\n",
    "import numpy as np\n",
    "import matplotlib.pyplot as plt\n",
    "\n",
    "plt.figure(figsize=(8,8))\n",
    "\n",
    "vals1 = year1_data_death.values\n",
    "plt.scatter(vals1[:,0],vals1[:,2],s = 300*vals1[:,1],c='y')\n",
    "\n",
    "vals2 = year2_data_death.values\n",
    "plt.scatter(vals2[:,0],vals2[:,2],s = 300*vals2[:,1],c='olive')\n",
    "\n",
    "vals3 = year3_data_death.values\n",
    "plt.scatter(vals3[:,0],vals3[:,2],s = 300*vals3[:,1],c='peachpuff')\n",
    "\n",
    "vals4 = year4_data_death.values\n",
    "plt.scatter(vals4[:,0],vals4[:,2],s = 300*vals4[:,1],c='peru')\n",
    "\n",
    "plt.show()"
   ]
  },
  {
   "cell_type": "code",
   "execution_count": 2,
   "id": "12ef475f",
   "metadata": {},
   "outputs": [
    {
     "name": "stdout",
     "output_type": "stream",
     "text": [
      "(20.753086419753085, 3.5707263656369518e-09)\n"
     ]
    }
   ],
   "source": [
    "chidata = [[41, 27],\n",
    "         [3, 41]]\n",
    "\n",
    "import scipy.stats as stats\n",
    "\n",
    "print(stats.fisher_exact(chidata))"
   ]
  },
  {
   "cell_type": "code",
   "execution_count": null,
   "id": "4154e2c1",
   "metadata": {},
   "outputs": [],
   "source": []
  }
 ],
 "metadata": {
  "kernelspec": {
   "display_name": "Python 3 (ipykernel)",
   "language": "python",
   "name": "python3"
  },
  "language_info": {
   "codemirror_mode": {
    "name": "ipython",
    "version": 3
   },
   "file_extension": ".py",
   "mimetype": "text/x-python",
   "name": "python",
   "nbconvert_exporter": "python",
   "pygments_lexer": "ipython3",
   "version": "3.8.8"
  }
 },
 "nbformat": 4,
 "nbformat_minor": 5
}
